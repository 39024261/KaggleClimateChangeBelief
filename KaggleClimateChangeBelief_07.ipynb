{
 "cells": [
  {
   "cell_type": "code",
   "execution_count": 1,
   "metadata": {},
   "outputs": [],
   "source": [
    "import numpy as np\n",
    "import pandas as pd\n",
    "import re\n",
    "from sklearn.utils import resample\n",
    "from nltk.tokenize import word_tokenize, TreebankWordTokenizer\n",
    "\n",
    "from nltk import SnowballStemmer, PorterStemmer, LancasterStemmer\n",
    "\n",
    "from sklearn.model_selection import train_test_split\n",
    "\n",
    "from sklearn.metrics import f1_score\n",
    "from sklearn.metrics import classification_report\n",
    "\n",
    "from sklearn.svm import SVC\n",
    "from sklearn.model_selection import GridSearchCV\n",
    "from sklearn.ensemble import RandomForestClassifier, AdaBoostClassifier\n",
    "\n",
    "from sklearn.feature_extraction.text import CountVectorizer\n",
    "from sklearn.feature_extraction.text import TfidfVectorizer\n",
    "from nltk.stem import WordNetLemmatizer\n",
    "from nltk.corpus import stopwords"
   ]
  },
  {
   "cell_type": "code",
   "execution_count": 2,
   "metadata": {},
   "outputs": [],
   "source": [
    "#read csv files\n",
    "df_tweets = pd.read_csv('train.csv',index_col='tweetid')\n",
    "df_kaggle_test = pd.read_csv('test.csv',index_col='tweetid')"
   ]
  },
  {
   "cell_type": "code",
   "execution_count": 3,
   "metadata": {},
   "outputs": [
    {
     "data": {
      "text/html": [
       "<div>\n",
       "<style scoped>\n",
       "    .dataframe tbody tr th:only-of-type {\n",
       "        vertical-align: middle;\n",
       "    }\n",
       "\n",
       "    .dataframe tbody tr th {\n",
       "        vertical-align: top;\n",
       "    }\n",
       "\n",
       "    .dataframe thead th {\n",
       "        text-align: right;\n",
       "    }\n",
       "</style>\n",
       "<table border=\"1\" class=\"dataframe\">\n",
       "  <thead>\n",
       "    <tr style=\"text-align: right;\">\n",
       "      <th></th>\n",
       "      <th>sentiment_description</th>\n",
       "      <th>message</th>\n",
       "    </tr>\n",
       "  </thead>\n",
       "  <tbody>\n",
       "    <tr>\n",
       "      <td>-1</td>\n",
       "      <td>anti</td>\n",
       "      <td>1296</td>\n",
       "    </tr>\n",
       "    <tr>\n",
       "      <td>0</td>\n",
       "      <td>neutral</td>\n",
       "      <td>2353</td>\n",
       "    </tr>\n",
       "    <tr>\n",
       "      <td>1</td>\n",
       "      <td>pro</td>\n",
       "      <td>8530</td>\n",
       "    </tr>\n",
       "    <tr>\n",
       "      <td>2</td>\n",
       "      <td>news</td>\n",
       "      <td>3640</td>\n",
       "    </tr>\n",
       "  </tbody>\n",
       "</table>\n",
       "</div>"
      ],
      "text/plain": [
       "   sentiment_description  message\n",
       "-1                  anti     1296\n",
       " 0               neutral     2353\n",
       " 1                   pro     8530\n",
       " 2                  news     3640"
      ]
     },
     "execution_count": 3,
     "metadata": {},
     "output_type": "execute_result"
    }
   ],
   "source": [
    "#determine class balance\n",
    "sentiment_count = df_tweets[['sentiment', 'message']].groupby('sentiment').count()\n",
    "sentiment = pd.DataFrame({'sentiment_description':['anti','neutral','pro','news']},index=[-1,0,1,2])\n",
    "sentiment.join(sentiment_count)"
   ]
  },
  {
   "cell_type": "code",
   "execution_count": 4,
   "metadata": {},
   "outputs": [],
   "source": [
    "news_2 = df_tweets[df_tweets['sentiment']==2]\n",
    "pro_1 = df_tweets[df_tweets['sentiment']==1]\n",
    "neutral_0 = df_tweets[df_tweets['sentiment']==0]\n",
    "anti_n1 = df_tweets[df_tweets['sentiment']==-1]"
   ]
  },
  {
   "cell_type": "code",
   "execution_count": 5,
   "metadata": {},
   "outputs": [],
   "source": [
    "# Downsample majority\n",
    "\n",
    "class_size = int(len(pro_1)/2)\n",
    "\n",
    "pro_1_resampled = resample(pro_1,\n",
    "                         replace=False, # sample without replacement (no need to duplicate observations)\n",
    "                         n_samples=class_size, # match number in minority class\n",
    "                          random_state=27) # reproducible result\n",
    "\n",
    "news_2_resampled = resample(news_2,\n",
    "                          replace=True, # sample with replacement (we need to duplicate observations)\n",
    "                          n_samples=class_size, # match number in minority class\n",
    "                          random_state=27) # reproducible results\n",
    "\n",
    "neutral_0_resampled = resample(neutral_0,\n",
    "                          replace=True, # sample with replacement (we need to duplicate observations)\n",
    "                          n_samples=class_size, # match number in minority class\n",
    "                          random_state=27) # reproducible results\n",
    "\n",
    "anti_n1_resampled = resample(anti_n1,\n",
    "                          replace=True, # sample with replacement (we need to duplicate observations)\n",
    "                          n_samples=class_size, # match number in minority class\n",
    "                          random_state=27) # reproducible results "
   ]
  },
  {
   "cell_type": "code",
   "execution_count": 6,
   "metadata": {},
   "outputs": [
    {
     "data": {
      "text/plain": [
       "17060"
      ]
     },
     "execution_count": 6,
     "metadata": {},
     "output_type": "execute_result"
    }
   ],
   "source": [
    "df_train = pd.concat([pro_1_resampled, news_2_resampled, neutral_0_resampled, anti_n1_resampled])\n",
    "len(df_train)\n",
    "#df_tweets = df"
   ]
  },
  {
   "cell_type": "code",
   "execution_count": 7,
   "metadata": {},
   "outputs": [],
   "source": [
    "#lower case formatting\n",
    "df_train['message'] = df_train['message'].str.lower()\n",
    "df_kaggle_test['message'] = df_kaggle_test['message'].str.lower()\n",
    "#df_kaggle.head(20)"
   ]
  },
  {
   "cell_type": "code",
   "execution_count": 8,
   "metadata": {},
   "outputs": [],
   "source": [
    "pattern_url = r'http[s]?://(?:[A-Za-z]|[0-9]|[$-_@.&+]|[!*\\(\\),]|(?:%[0-9A-Fa-f][0-9A-Fa-f]))+'\n",
    "subs_url = r'url-web'\n",
    "df_train['message'] = df_train['message'].replace(to_replace = pattern_url, value = subs_url, regex = True)\n",
    "df_kaggle_test['message'] = df_kaggle_test['message'].replace(to_replace = pattern_url, value = subs_url, regex = True)"
   ]
  },
  {
   "cell_type": "code",
   "execution_count": 19,
   "metadata": {},
   "outputs": [
    {
     "data": {
      "text/plain": [
       "sentiment                                                    1\n",
       "message      rt @ubcforestry: funding from @genomebc will s...\n",
       "Name: 977844, dtype: object"
      ]
     },
     "execution_count": 19,
     "metadata": {},
     "output_type": "execute_result"
    }
   ],
   "source": [
    "df_train.iloc[0]\n"
   ]
  },
  {
   "cell_type": "code",
   "execution_count": 20,
   "metadata": {},
   "outputs": [],
   "source": [
    "import string\n",
    "def remove_punctuation_numbers(post):\n",
    "    punc_numbers = string.punctuation + '0123456789'\n",
    "    return ''.join([l for l in post if l not in punc_numbers])\n",
    "\n",
    "df_train['message'] = df_train['message'].apply(remove_punctuation_numbers)\n",
    "df_kaggle_test['message'] = df_kaggle_test['message'].apply(remove_punctuation_numbers)\n"
   ]
  },
  {
   "cell_type": "code",
   "execution_count": 21,
   "metadata": {},
   "outputs": [],
   "source": [
    "#Tokenize word\n",
    "tokeniser = TreebankWordTokenizer()\n",
    "df_train['tokens'] = df_train['message'].apply(tokeniser.tokenize)\n",
    "df_kaggle_test['tokens'] = df_kaggle_test['message'].apply(tokeniser.tokenize)"
   ]
  },
  {
   "cell_type": "code",
   "execution_count": 22,
   "metadata": {},
   "outputs": [],
   "source": [
    "def remove_stop_words(tokens):    \n",
    "    return [t for t in tokens if t not in stopwords.words('english')]"
   ]
  },
  {
   "cell_type": "code",
   "execution_count": 23,
   "metadata": {},
   "outputs": [],
   "source": [
    "df_train['tokens'] = df_train['tokens'].apply(remove_stop_words)\n",
    "df_kaggle_test['tokens'] = df_kaggle_test['tokens'].apply(remove_stop_words)"
   ]
  },
  {
   "cell_type": "code",
   "execution_count": 24,
   "metadata": {},
   "outputs": [],
   "source": [
    "def scrub_words(text):\n",
    "    \"\"\"Basic cleaning of texts.\"\"\"\n",
    "    clean_text = []\n",
    "    for word in text:\n",
    "\n",
    "    # remove html markup\n",
    "        word=re.sub(\"(<.*?>)\",\"\",word)\n",
    "    \n",
    "    #remove non-ascii and digits\n",
    "        word=re.sub(\"(\\\\W|\\\\d)\",\" \",word)\n",
    "        word=re.sub(\"\\\\s+(in|the|all|for|and|on)\\\\s+\",\" _connector_ \",word) # normalize certain words\n",
    "    #remove whitespace\n",
    "        word=word.strip()\n",
    "        clean_text.append(word)\n",
    "    return clean_text"
   ]
  },
  {
   "cell_type": "code",
   "execution_count": 25,
   "metadata": {},
   "outputs": [],
   "source": [
    "df_train['clean_tokens'] = df_train['tokens'].apply(scrub_words)\n",
    "df_kaggle_test['clean_tokens'] = df_kaggle_test['tokens'].apply(scrub_words)"
   ]
  },
  {
   "cell_type": "code",
   "execution_count": 26,
   "metadata": {},
   "outputs": [],
   "source": [
    "lemmatizer = WordNetLemmatizer()"
   ]
  },
  {
   "cell_type": "code",
   "execution_count": 27,
   "metadata": {},
   "outputs": [],
   "source": [
    "def mbti_lemma(words, lemmatizer):\n",
    "    return [lemmatizer.lemmatize(word) for word in words]    "
   ]
  },
  {
   "cell_type": "code",
   "execution_count": 28,
   "metadata": {},
   "outputs": [],
   "source": [
    "df_train['lemma_tokens'] = df_train['clean_tokens'].apply(mbti_lemma, args=(lemmatizer, ))\n",
    "df_kaggle_test['lemma_tokens'] = df_kaggle_test['clean_tokens'].apply(mbti_lemma, args=(lemmatizer, ))"
   ]
  },
  {
   "cell_type": "code",
   "execution_count": 29,
   "metadata": {},
   "outputs": [],
   "source": [
    "df_train['clean_message'] = [' '.join(map(str, l)) for l in df_train['lemma_tokens']]\n",
    "df_kaggle_test['clean_message'] = [' '.join(map(str, l)) for l in df_kaggle_test['lemma_tokens']]"
   ]
  },
  {
   "cell_type": "code",
   "execution_count": 30,
   "metadata": {},
   "outputs": [
    {
     "data": {
      "text/html": [
       "<div>\n",
       "<style scoped>\n",
       "    .dataframe tbody tr th:only-of-type {\n",
       "        vertical-align: middle;\n",
       "    }\n",
       "\n",
       "    .dataframe tbody tr th {\n",
       "        vertical-align: top;\n",
       "    }\n",
       "\n",
       "    .dataframe thead th {\n",
       "        text-align: right;\n",
       "    }\n",
       "</style>\n",
       "<table border=\"1\" class=\"dataframe\">\n",
       "  <thead>\n",
       "    <tr style=\"text-align: right;\">\n",
       "      <th></th>\n",
       "      <th>sentiment</th>\n",
       "      <th>message</th>\n",
       "      <th>tokens</th>\n",
       "      <th>clean_tokens</th>\n",
       "      <th>lemma_tokens</th>\n",
       "      <th>clean_message</th>\n",
       "    </tr>\n",
       "    <tr>\n",
       "      <th>tweetid</th>\n",
       "      <th></th>\n",
       "      <th></th>\n",
       "      <th></th>\n",
       "      <th></th>\n",
       "      <th></th>\n",
       "      <th></th>\n",
       "    </tr>\n",
       "  </thead>\n",
       "  <tbody>\n",
       "    <tr>\n",
       "      <td>977844</td>\n",
       "      <td>1</td>\n",
       "      <td>rt ubcforestry funding from genomebc will supp...</td>\n",
       "      <td>[rt, ubcforestry, funding, genomebc, support, ...</td>\n",
       "      <td>[rt, ubcforestry, funding, genomebc, support, ...</td>\n",
       "      <td>[rt, ubcforestry, funding, genomebc, support, ...</td>\n",
       "      <td>rt ubcforestry funding genomebc support sallyn...</td>\n",
       "    </tr>\n",
       "    <tr>\n",
       "      <td>441956</td>\n",
       "      <td>1</td>\n",
       "      <td>yadimoiina gag orders sure hes definitely gree...</td>\n",
       "      <td>[yadimoiina, gag, orders, sure, hes, definitel...</td>\n",
       "      <td>[yadimoiina, gag, orders, sure, hes, definitel...</td>\n",
       "      <td>[yadimoiina, gag, order, sure, he, definitely,...</td>\n",
       "      <td>yadimoiina gag order sure he definitely green ...</td>\n",
       "    </tr>\n",
       "    <tr>\n",
       "      <td>978938</td>\n",
       "      <td>1</td>\n",
       "      <td>rt pattonoswalt not ominous at all he also wan...</td>\n",
       "      <td>[rt, pattonoswalt, ominous, also, wants, names...</td>\n",
       "      <td>[rt, pattonoswalt, ominous, also, wants, names...</td>\n",
       "      <td>[rt, pattonoswalt, ominous, also, want, name, ...</td>\n",
       "      <td>rt pattonoswalt ominous also want name anyone ...</td>\n",
       "    </tr>\n",
       "    <tr>\n",
       "      <td>587737</td>\n",
       "      <td>1</td>\n",
       "      <td>rt melissajpeltier in case you forgot about th...</td>\n",
       "      <td>[rt, melissajpeltier, case, forgot, chinese, h...</td>\n",
       "      <td>[rt, melissajpeltier, case, forgot, chinese, h...</td>\n",
       "      <td>[rt, melissajpeltier, case, forgot, chinese, h...</td>\n",
       "      <td>rt melissajpeltier case forgot chinese hoax gl...</td>\n",
       "    </tr>\n",
       "    <tr>\n",
       "      <td>804767</td>\n",
       "      <td>1</td>\n",
       "      <td>rt sethmacfarlane hrc proposes installing half...</td>\n",
       "      <td>[rt, sethmacfarlane, hrc, proposes, installing...</td>\n",
       "      <td>[rt, sethmacfarlane, hrc, proposes, installing...</td>\n",
       "      <td>[rt, sethmacfarlane, hrc, proposes, installing...</td>\n",
       "      <td>rt sethmacfarlane hrc proposes installing half...</td>\n",
       "    </tr>\n",
       "    <tr>\n",
       "      <td>...</td>\n",
       "      <td>...</td>\n",
       "      <td>...</td>\n",
       "      <td>...</td>\n",
       "      <td>...</td>\n",
       "      <td>...</td>\n",
       "      <td>...</td>\n",
       "    </tr>\n",
       "    <tr>\n",
       "      <td>517059</td>\n",
       "      <td>-1</td>\n",
       "      <td>the priority for most africans is getting food...</td>\n",
       "      <td>[priority, africans, getting, food, empty, tum...</td>\n",
       "      <td>[priority, africans, getting, food, empty, tum...</td>\n",
       "      <td>[priority, african, getting, food, empty, tumm...</td>\n",
       "      <td>priority african getting food empty tummy ever...</td>\n",
       "    </tr>\n",
       "    <tr>\n",
       "      <td>759713</td>\n",
       "      <td>-1</td>\n",
       "      <td>rt realdonaldtrump the concept of global warmi...</td>\n",
       "      <td>[rt, realdonaldtrump, concept, global, warming...</td>\n",
       "      <td>[rt, realdonaldtrump, concept, global, warming...</td>\n",
       "      <td>[rt, realdonaldtrump, concept, global, warming...</td>\n",
       "      <td>rt realdonaldtrump concept global warming crea...</td>\n",
       "    </tr>\n",
       "    <tr>\n",
       "      <td>189585</td>\n",
       "      <td>-1</td>\n",
       "      <td>rt cattharmony id rather marchforbabies than m...</td>\n",
       "      <td>[rt, cattharmony, id, rather, marchforbabies, ...</td>\n",
       "      <td>[rt, cattharmony, id, rather, marchforbabies, ...</td>\n",
       "      <td>[rt, cattharmony, id, rather, marchforbabies, ...</td>\n",
       "      <td>rt cattharmony id rather marchforbabies march ...</td>\n",
       "    </tr>\n",
       "    <tr>\n",
       "      <td>763763</td>\n",
       "      <td>-1</td>\n",
       "      <td>rt loftyjester of course they have fuck all to...</td>\n",
       "      <td>[rt, loftyjester, course, fuck, fake, climate,...</td>\n",
       "      <td>[rt, loftyjester, course, fuck, fake, climate,...</td>\n",
       "      <td>[rt, loftyjester, course, fuck, fake, climate,...</td>\n",
       "      <td>rt loftyjester course fuck fake climate change...</td>\n",
       "    </tr>\n",
       "    <tr>\n",
       "      <td>530783</td>\n",
       "      <td>-1</td>\n",
       "      <td>rt scottadamssays did you know the consensus o...</td>\n",
       "      <td>[rt, scottadamssays, know, consensus, experts,...</td>\n",
       "      <td>[rt, scottadamssays, know, consensus, experts,...</td>\n",
       "      <td>[rt, scottadamssays, know, consensus, expert, ...</td>\n",
       "      <td>rt scottadamssays know consensus expert say cl...</td>\n",
       "    </tr>\n",
       "  </tbody>\n",
       "</table>\n",
       "<p>17060 rows × 6 columns</p>\n",
       "</div>"
      ],
      "text/plain": [
       "         sentiment                                            message  \\\n",
       "tweetid                                                                 \n",
       "977844           1  rt ubcforestry funding from genomebc will supp...   \n",
       "441956           1  yadimoiina gag orders sure hes definitely gree...   \n",
       "978938           1  rt pattonoswalt not ominous at all he also wan...   \n",
       "587737           1  rt melissajpeltier in case you forgot about th...   \n",
       "804767           1  rt sethmacfarlane hrc proposes installing half...   \n",
       "...            ...                                                ...   \n",
       "517059          -1  the priority for most africans is getting food...   \n",
       "759713          -1  rt realdonaldtrump the concept of global warmi...   \n",
       "189585          -1  rt cattharmony id rather marchforbabies than m...   \n",
       "763763          -1  rt loftyjester of course they have fuck all to...   \n",
       "530783          -1  rt scottadamssays did you know the consensus o...   \n",
       "\n",
       "                                                    tokens  \\\n",
       "tweetid                                                      \n",
       "977844   [rt, ubcforestry, funding, genomebc, support, ...   \n",
       "441956   [yadimoiina, gag, orders, sure, hes, definitel...   \n",
       "978938   [rt, pattonoswalt, ominous, also, wants, names...   \n",
       "587737   [rt, melissajpeltier, case, forgot, chinese, h...   \n",
       "804767   [rt, sethmacfarlane, hrc, proposes, installing...   \n",
       "...                                                    ...   \n",
       "517059   [priority, africans, getting, food, empty, tum...   \n",
       "759713   [rt, realdonaldtrump, concept, global, warming...   \n",
       "189585   [rt, cattharmony, id, rather, marchforbabies, ...   \n",
       "763763   [rt, loftyjester, course, fuck, fake, climate,...   \n",
       "530783   [rt, scottadamssays, know, consensus, experts,...   \n",
       "\n",
       "                                              clean_tokens  \\\n",
       "tweetid                                                      \n",
       "977844   [rt, ubcforestry, funding, genomebc, support, ...   \n",
       "441956   [yadimoiina, gag, orders, sure, hes, definitel...   \n",
       "978938   [rt, pattonoswalt, ominous, also, wants, names...   \n",
       "587737   [rt, melissajpeltier, case, forgot, chinese, h...   \n",
       "804767   [rt, sethmacfarlane, hrc, proposes, installing...   \n",
       "...                                                    ...   \n",
       "517059   [priority, africans, getting, food, empty, tum...   \n",
       "759713   [rt, realdonaldtrump, concept, global, warming...   \n",
       "189585   [rt, cattharmony, id, rather, marchforbabies, ...   \n",
       "763763   [rt, loftyjester, course, fuck, fake, climate,...   \n",
       "530783   [rt, scottadamssays, know, consensus, experts,...   \n",
       "\n",
       "                                              lemma_tokens  \\\n",
       "tweetid                                                      \n",
       "977844   [rt, ubcforestry, funding, genomebc, support, ...   \n",
       "441956   [yadimoiina, gag, order, sure, he, definitely,...   \n",
       "978938   [rt, pattonoswalt, ominous, also, want, name, ...   \n",
       "587737   [rt, melissajpeltier, case, forgot, chinese, h...   \n",
       "804767   [rt, sethmacfarlane, hrc, proposes, installing...   \n",
       "...                                                    ...   \n",
       "517059   [priority, african, getting, food, empty, tumm...   \n",
       "759713   [rt, realdonaldtrump, concept, global, warming...   \n",
       "189585   [rt, cattharmony, id, rather, marchforbabies, ...   \n",
       "763763   [rt, loftyjester, course, fuck, fake, climate,...   \n",
       "530783   [rt, scottadamssays, know, consensus, expert, ...   \n",
       "\n",
       "                                             clean_message  \n",
       "tweetid                                                     \n",
       "977844   rt ubcforestry funding genomebc support sallyn...  \n",
       "441956   yadimoiina gag order sure he definitely green ...  \n",
       "978938   rt pattonoswalt ominous also want name anyone ...  \n",
       "587737   rt melissajpeltier case forgot chinese hoax gl...  \n",
       "804767   rt sethmacfarlane hrc proposes installing half...  \n",
       "...                                                    ...  \n",
       "517059   priority african getting food empty tummy ever...  \n",
       "759713   rt realdonaldtrump concept global warming crea...  \n",
       "189585   rt cattharmony id rather marchforbabies march ...  \n",
       "763763   rt loftyjester course fuck fake climate change...  \n",
       "530783   rt scottadamssays know consensus expert say cl...  \n",
       "\n",
       "[17060 rows x 6 columns]"
      ]
     },
     "execution_count": 30,
     "metadata": {},
     "output_type": "execute_result"
    }
   ],
   "source": [
    "df_train"
   ]
  },
  {
   "cell_type": "code",
   "execution_count": 31,
   "metadata": {},
   "outputs": [],
   "source": [
    "betterVect = TfidfVectorizer(ngram_range=(1,2), min_df=2,max_df=0.5, stop_words=\"english\")"
   ]
  },
  {
   "cell_type": "code",
   "execution_count": 32,
   "metadata": {},
   "outputs": [],
   "source": [
    "X_vect = betterVect.fit_transform(df_train['clean_message'])\n",
    "X_kaggle = betterVect.transform(df_kaggle_test['clean_message'])"
   ]
  },
  {
   "cell_type": "code",
   "execution_count": 33,
   "metadata": {},
   "outputs": [
    {
     "data": {
      "text/plain": [
       "array([[0., 0., 0., ..., 0., 0., 0.],\n",
       "       [0., 0., 0., ..., 0., 0., 0.],\n",
       "       [0., 0., 0., ..., 0., 0., 0.],\n",
       "       ...,\n",
       "       [0., 0., 0., ..., 0., 0., 0.],\n",
       "       [0., 0., 0., ..., 0., 0., 0.],\n",
       "       [0., 0., 0., ..., 0., 0., 0.]])"
      ]
     },
     "execution_count": 33,
     "metadata": {},
     "output_type": "execute_result"
    }
   ],
   "source": [
    "X = X_vect.toarray()\n",
    "y = df_train['sentiment']\n",
    "X_train, X_test, y_train, y_test = train_test_split(X, y, test_size=0.3, random_state=42)\n",
    "X_train"
   ]
  },
  {
   "cell_type": "code",
   "execution_count": null,
   "metadata": {},
   "outputs": [],
   "source": [
    "rfc = RandomForestClassifier()\n",
    "rfc.fit(X_train, y_train)\n",
    "y_pred = rfc.predict(X_test)"
   ]
  },
  {
   "cell_type": "code",
   "execution_count": 35,
   "metadata": {},
   "outputs": [
    {
     "data": {
      "text/plain": [
       "0.840435277484903"
      ]
     },
     "execution_count": 35,
     "metadata": {},
     "output_type": "execute_result"
    }
   ],
   "source": [
    "f1_score(y_test, y_pred, average=\"macro\")"
   ]
  },
  {
   "cell_type": "code",
   "execution_count": 36,
   "metadata": {},
   "outputs": [
    {
     "name": "stdout",
     "output_type": "stream",
     "text": [
      "              precision    recall  f1-score   support\n",
      "\n",
      "          -1       0.96      0.94      0.95      1251\n",
      "           0       0.78      0.89      0.83      1275\n",
      "           1       0.81      0.67      0.73      1292\n",
      "           2       0.83      0.88      0.86      1300\n",
      "\n",
      "    accuracy                           0.84      5118\n",
      "   macro avg       0.84      0.84      0.84      5118\n",
      "weighted avg       0.84      0.84      0.84      5118\n",
      "\n"
     ]
    }
   ],
   "source": [
    "print(classification_report(y_test, y_pred))"
   ]
  },
  {
   "cell_type": "code",
   "execution_count": 37,
   "metadata": {},
   "outputs": [
    {
     "data": {
      "text/plain": [
       "array([ 2,  1,  0, -1], dtype=int64)"
      ]
     },
     "execution_count": 37,
     "metadata": {},
     "output_type": "execute_result"
    }
   ],
   "source": [
    "result_frame = {'tweetid' : df_kaggle_test.index,'sentiment' : rfc.predict(X_kaggle).astype(int)}\n",
    "df_result = pd.DataFrame(result_frame)\n",
    "df_result.set_index('tweetid',inplace=True)\n",
    "df_result[\"sentiment\"].unique()"
   ]
  },
  {
   "cell_type": "code",
   "execution_count": 38,
   "metadata": {},
   "outputs": [
    {
     "data": {
      "text/html": [
       "<div>\n",
       "<style scoped>\n",
       "    .dataframe tbody tr th:only-of-type {\n",
       "        vertical-align: middle;\n",
       "    }\n",
       "\n",
       "    .dataframe tbody tr th {\n",
       "        vertical-align: top;\n",
       "    }\n",
       "\n",
       "    .dataframe thead th {\n",
       "        text-align: right;\n",
       "    }\n",
       "</style>\n",
       "<table border=\"1\" class=\"dataframe\">\n",
       "  <thead>\n",
       "    <tr style=\"text-align: right;\">\n",
       "      <th></th>\n",
       "      <th>sentiment</th>\n",
       "    </tr>\n",
       "    <tr>\n",
       "      <th>tweetid</th>\n",
       "      <th></th>\n",
       "    </tr>\n",
       "  </thead>\n",
       "  <tbody>\n",
       "    <tr>\n",
       "      <td>169760</td>\n",
       "      <td>2</td>\n",
       "    </tr>\n",
       "    <tr>\n",
       "      <td>35326</td>\n",
       "      <td>1</td>\n",
       "    </tr>\n",
       "    <tr>\n",
       "      <td>224985</td>\n",
       "      <td>1</td>\n",
       "    </tr>\n",
       "    <tr>\n",
       "      <td>476263</td>\n",
       "      <td>1</td>\n",
       "    </tr>\n",
       "    <tr>\n",
       "      <td>872928</td>\n",
       "      <td>0</td>\n",
       "    </tr>\n",
       "    <tr>\n",
       "      <td>...</td>\n",
       "      <td>...</td>\n",
       "    </tr>\n",
       "    <tr>\n",
       "      <td>895714</td>\n",
       "      <td>1</td>\n",
       "    </tr>\n",
       "    <tr>\n",
       "      <td>875167</td>\n",
       "      <td>1</td>\n",
       "    </tr>\n",
       "    <tr>\n",
       "      <td>78329</td>\n",
       "      <td>1</td>\n",
       "    </tr>\n",
       "    <tr>\n",
       "      <td>867455</td>\n",
       "      <td>0</td>\n",
       "    </tr>\n",
       "    <tr>\n",
       "      <td>470892</td>\n",
       "      <td>0</td>\n",
       "    </tr>\n",
       "  </tbody>\n",
       "</table>\n",
       "<p>10546 rows × 1 columns</p>\n",
       "</div>"
      ],
      "text/plain": [
       "         sentiment\n",
       "tweetid           \n",
       "169760           2\n",
       "35326            1\n",
       "224985           1\n",
       "476263           1\n",
       "872928           0\n",
       "...            ...\n",
       "895714           1\n",
       "875167           1\n",
       "78329            1\n",
       "867455           0\n",
       "470892           0\n",
       "\n",
       "[10546 rows x 1 columns]"
      ]
     },
     "execution_count": 38,
     "metadata": {},
     "output_type": "execute_result"
    }
   ],
   "source": [
    "df_result"
   ]
  },
  {
   "cell_type": "code",
   "execution_count": 39,
   "metadata": {},
   "outputs": [],
   "source": [
    "df_result.to_csv('KaggleSubmission_20201018_07.csv')"
   ]
  },
  {
   "cell_type": "code",
   "execution_count": null,
   "metadata": {},
   "outputs": [],
   "source": []
  },
  {
   "cell_type": "code",
   "execution_count": null,
   "metadata": {},
   "outputs": [],
   "source": []
  },
  {
   "cell_type": "code",
   "execution_count": null,
   "metadata": {},
   "outputs": [],
   "source": []
  },
  {
   "cell_type": "code",
   "execution_count": null,
   "metadata": {},
   "outputs": [],
   "source": []
  },
  {
   "cell_type": "code",
   "execution_count": null,
   "metadata": {},
   "outputs": [],
   "source": []
  },
  {
   "cell_type": "code",
   "execution_count": null,
   "metadata": {},
   "outputs": [],
   "source": []
  },
  {
   "cell_type": "code",
   "execution_count": null,
   "metadata": {},
   "outputs": [],
   "source": []
  },
  {
   "cell_type": "code",
   "execution_count": null,
   "metadata": {},
   "outputs": [],
   "source": []
  },
  {
   "cell_type": "code",
   "execution_count": null,
   "metadata": {},
   "outputs": [],
   "source": []
  },
  {
   "cell_type": "code",
   "execution_count": null,
   "metadata": {},
   "outputs": [],
   "source": []
  },
  {
   "cell_type": "code",
   "execution_count": null,
   "metadata": {},
   "outputs": [],
   "source": []
  },
  {
   "cell_type": "code",
   "execution_count": null,
   "metadata": {},
   "outputs": [],
   "source": []
  },
  {
   "cell_type": "code",
   "execution_count": null,
   "metadata": {},
   "outputs": [],
   "source": []
  },
  {
   "cell_type": "code",
   "execution_count": null,
   "metadata": {},
   "outputs": [],
   "source": []
  }
 ],
 "metadata": {
  "kernelspec": {
   "display_name": "Python 3",
   "language": "python",
   "name": "python3"
  },
  "language_info": {
   "codemirror_mode": {
    "name": "ipython",
    "version": 3
   },
   "file_extension": ".py",
   "mimetype": "text/x-python",
   "name": "python",
   "nbconvert_exporter": "python",
   "pygments_lexer": "ipython3",
   "version": "3.7.4"
  }
 },
 "nbformat": 4,
 "nbformat_minor": 2
}
